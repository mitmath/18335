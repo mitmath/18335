{
 "cells": [
  {
   "attachments": {},
   "cell_type": "markdown",
   "metadata": {},
   "source": [
    "# 18.335 Problem Set 2\n",
    "\n",
    "This notebook accompanies the second problem set posted on the [18.335 web page](https://github.com/mitmath/18335), and is here to get you started with your own Julia computations.\n",
    "\n",
    "Download this notebook (a `pset2.ipynb` file) by **right-clicking the download link** at the upper-right to *Save As* a file, and then drag this file into your Jupyter dashboard to upload it (e.g. on [![Binder](https://mybinder.org/badge_logo.svg)](https://mybinder.org/v2/gh/mitmath/binder-env/main?urlpath=git-pull%3Frepo%3Dhttps%253A%252F%252Fgithub.com%252Fmitmath%252F18335%26urlpath%3Dtree%252F18335%252F%26branch%3Dmaster) or in a local installation).\n",
    "\n",
    "Modify it as needed, then choose **Print Preview** from the \"File\" menu and *print to a PDF* file to submit electronically."
   ]
  },
  {
   "attachments": {},
   "cell_type": "markdown",
   "metadata": {},
   "source": [
    "# Problem 2: Banded factorization of a finite-difference matrix"
   ]
  },
  {
   "attachments": {},
   "cell_type": "markdown",
   "metadata": {},
   "source": [
    "Develop your algorithm for a banded factorization of $A=I+\\sigma D$ in the following sections. The flops required to compute the factorization should scale linearly with the dimension of $A$ (e.g., if $A$ is $n\\times n$, then ${\\rm \\#flops}=\\mathcal{O}(n))$. Here are the problem parameters and a banded representation of our finite-difference discretization to get you started."
   ]
  },
  {
   "cell_type": "code",
   "execution_count": null,
   "metadata": {},
   "outputs": [],
   "source": [
    "using LinearAlgebra\n",
    "using BandedMatrices\n",
    "\n",
    "## PDE and discretization parameters\n",
    "α = 1                           # velocity\n",
    "n = 199                         # discretization size\n",
    "Δx = 1 / (n+1)                  # grid spacing\n",
    "Δt = 0.005                      # time step\n",
    "σ = α*Δt/Δx                     # shift\n",
    "\n",
    "## scaled 2nd order central difference matrix plus identity\n",
    "D = BandedMatrix(-2 => ones(n-2)/12, -1 => -2*ones(n-1)/3, 0=> zeros(n), 1 => 2*ones(n-1)/3, 2 => -ones(n-2)/12)\n",
    "A = BandedMatrix(Eye(n), (2,2)) + σ * D"
   ]
  },
  {
   "attachments": {},
   "cell_type": "markdown",
   "metadata": {},
   "source": [
    "Your algorithm goes here! You can overwrite the factors $L$, $D$, and $U$ on the copy of $A$ by writing the entries in $L$ and $U$ to the strictly lower and upper triangular entries and $D$ on the diagonal (no need to store the unit diagonal entries of $L$ and $U$ explicitly)."
   ]
  },
  {
   "cell_type": "code",
   "execution_count": null,
   "metadata": {},
   "outputs": [],
   "source": [
    "function ldu( A )\n",
    "    # YOUR SOLUTION HERE: compute banded factorization A = LDU via elimination\n",
    "        \n",
    "        # write factors L, D, and U onto a copy of A    \n",
    "        F = copy(A)\n",
    "\n",
    "        # banded elimination\n",
    "\n",
    "        return F\n",
    "end"
   ]
  },
  {
   "attachments": {},
   "cell_type": "markdown",
   "metadata": {},
   "source": [
    "Let's check the backward error $\\|\\Delta A\\| = \\|A-LDU\\|$ in the computed factorization."
   ]
  },
  {
   "cell_type": "code",
   "execution_count": null,
   "metadata": {},
   "outputs": [],
   "source": [
    "F = ldu(A)\n",
    "D = BandedMatrix(0 => diag(F))\n",
    "U = UpperTriangular(F) - D + BandedMatrix(Eye(n), (0,2))\n",
    "L = LowerTriangular(F) - D + BandedMatrix(Eye(n), (2,0))\n",
    "norm(A - L*D*U)"
   ]
  },
  {
   "attachments": {},
   "cell_type": "markdown",
   "metadata": {},
   "source": [
    "Finally, let's use our factorization to solve the advection equation with the square-wave initial condition $$u(0,x) = \\begin{cases} 0,\\qquad |x-1/2| > 0.1 \\\\ 1, \\qquad |x-1/2| \\leq 0.1 \\end{cases}$$\n",
    "\n",
    "Provide a function to advance the solution from $u_k$ to $u_{k+1}$, using only the factors $L$, $D$, and $U$, in the segment below.\n",
    "\n"
   ]
  },
  {
   "cell_type": "code",
   "execution_count": null,
   "metadata": {},
   "outputs": [],
   "source": [
    "function advec_step(L, D, U, uk)\n",
    "    # YOUR SOLUTION HERE: advance advection solution ub one time step with LDU factorization of finite-difference discretization\n",
    "\n",
    "    return ukp1\n",
    "end"
   ]
  },
  {
   "attachments": {},
   "cell_type": "markdown",
   "metadata": {},
   "source": [
    "Now, we'll take a look at the initial condition and the numerical solution."
   ]
  },
  {
   "cell_type": "code",
   "execution_count": null,
   "metadata": {},
   "outputs": [],
   "source": [
    "using Plots\n",
    "\n",
    "# initial condition\n",
    "b = zeros(n)\n",
    "b[80:120] = ones(41)\n",
    "plot(range(0.01, 0.99, length=n), b)"
   ]
  },
  {
   "attachments": {},
   "cell_type": "markdown",
   "metadata": {},
   "source": [
    "In the exact (weak) solution, the square-wave moves to the right with velocity $v=1$, i.e., $u(x,t)=u(0,x-vt)$ (at least, until it hits the boundary). What do you observe in the numerical solution?\n",
    "\n",
    "Try out the second gaussian initial condition too!"
   ]
  },
  {
   "cell_type": "code",
   "execution_count": null,
   "metadata": {},
   "outputs": [],
   "source": [
    "# initial condition 1 (square-wave)\n",
    "b = zeros(n)\n",
    "b[80:120] = ones(41)\n",
    "\n",
    "# initial condition 2 (gaussian)\n",
    "#b = zeros(n)\n",
    "#x = range(0.01, 0.99, length=n)\n",
    "#b = exp.(-200*(x.-0.25).^2)\n",
    "\n",
    "# time stepping gif\n",
    "anim = Animation()\n",
    "m = 100                         # number of steps in time \n",
    "for k ∈ 1:m                     # animate solution\n",
    "    plot(range(0.01, 0.99, length=n), b, linecolor = :blue, legend = false)\n",
    "    ylims!(0.0,1.5)\n",
    "    b = advec_step(L,D,U,b)\n",
    "    frame(anim)\n",
    "end\n",
    "gif(anim)\n",
    "\n",
    "    "
   ]
  },
  {
   "attachments": {},
   "cell_type": "markdown",
   "metadata": {},
   "source": [
    "For a deeper understanding of the movie, one needs to go beyond linear algebra and understand the approximation properties of finite-difference schemes for partial differential equations like the advection equation."
   ]
  },
  {
   "attachments": {},
   "cell_type": "markdown",
   "metadata": {},
   "source": [
    "# Problem 3: Regularized least-squares solutions"
   ]
  },
  {
   "attachments": {},
   "cell_type": "markdown",
   "metadata": {},
   "source": [
    "Implement a structure-exploiting Givens-based QR solver for the least-squares problem $$x_* = {\\rm argmin}_x\\left\\|\\begin{pmatrix}A \\\\ \\\\ \\sqrt{\\lambda}I \\end{pmatrix}x - \\begin{pmatrix}b \\\\ \\\\ 0 \\end{pmatrix}\\right\\|_2^2.$$"
   ]
  },
  {
   "cell_type": "code",
   "execution_count": null,
   "metadata": {},
   "outputs": [],
   "source": [
    "function qrsolve(A, b, λ)\n",
    "    ## YOUR SOLUTION HERE\n",
    "\n",
    "    return xmin\n",
    "end\n"
   ]
  },
  {
   "attachments": {},
   "cell_type": "markdown",
   "metadata": {},
   "source": [
    "## NOT FOR CREDIT\n",
    "\n",
    "The rest of this notebook explores solutions to the regularized least-squares problem. Experiment if you are curious! There are no tasks \"for credit\" beyond this point."
   ]
  },
  {
   "attachments": {},
   "cell_type": "markdown",
   "metadata": {},
   "source": [
    "Consider the following $100\\times 50$ ill-conditioned least-squares problem $Ax=b$, where the last $20$ singular values of $A$ decay rapidly to about $10^{-6}$."
   ]
  },
  {
   "cell_type": "code",
   "execution_count": null,
   "metadata": {},
   "outputs": [],
   "source": [
    "# singular values with decay profile\n",
    "x = 1:50\n",
    "v = 1e-6 .+ (1 ./ (1 .+ exp.(2*(x .- 30))))\n",
    "plot(x,log10.(v), legend = false)"
   ]
  },
  {
   "cell_type": "code",
   "execution_count": null,
   "metadata": {},
   "outputs": [],
   "source": [
    "# matrix constructed from SVD\n",
    "U = qr(rand(100,100)).Q\n",
    "V = qr(randn(50,50)).Q\n",
    "Σ = [diagm(v); zeros(50,50)]\n",
    "A = U * Σ * V'\n",
    "cond(A)"
   ]
  },
  {
   "attachments": {},
   "cell_type": "markdown",
   "metadata": {},
   "source": [
    "Given a random right-hand side $b$, plot the terms $\\|Ax_*-b\\|$ and $\\|x_*\\|$ as $\\lambda\\rightarrow 0$."
   ]
  },
  {
   "cell_type": "code",
   "execution_count": null,
   "metadata": {},
   "outputs": [],
   "source": [
    "# random right-hand side\n",
    "b = randn(100)\n",
    "\n",
    "# \"exact\" least-squares solution (warning: ill-conditioned)\n",
    "x0 = A \\ b\n",
    "res = norm(A*x0 - b)\n",
    "\n",
    "# range of \\lambda\n",
    "l = 20\n",
    "p = LinRange(-1,15,l)\n",
    "λ = 10 .^ (-p)\n",
    "\n",
    "# iterate over \\lambda\n",
    "errx = zeros(l)\n",
    "resAx = zeros(l)\n",
    "normx = zeros(l)\n",
    "for j ∈ 1:l\n",
    "    x = V * ( (Σ'*Σ+λ[j]*I) \\ (Σ' * U' *b) )\n",
    "    resAx[j] = norm(A*x-b)\n",
    "    normx[j] = norm(x)\n",
    "end\n",
    "\n",
    "p1 = plot(log10.(λ), resAx, legend = false, title = \"log10(||Ax-b||)\", xlabel = \"log10(lambda)\")\n",
    "plot!(log10.(λ), res * ones(length(λ)), legend = false)\n",
    "p2 = plot(log10.(λ), log10.(normx), legend = false, title = \"log10||x||\", xlabel = \"log10(lambda)\")\n",
    "plot!(log10.(λ), log10(norm(x0)) * ones(length(λ)), legend = false)\n",
    "display(p1)\n",
    "display(p2)\n"
   ]
  },
  {
   "attachments": {},
   "cell_type": "markdown",
   "metadata": {},
   "source": [
    "Now, try adjusting the singular value profile of $A$ (for example, lower the plateau at $10^{-6}$ to $10^{-9}$) and see what changes!"
   ]
  }
 ],
 "metadata": {
  "@webio": {
   "lastCommId": null,
   "lastKernelId": null
  },
  "kernelspec": {
   "display_name": "Julia 1.6.3",
   "language": "julia",
   "name": "julia-1.6"
  },
  "language_info": {
   "file_extension": ".jl",
   "mimetype": "application/julia",
   "name": "julia",
   "version": "1.6.3"
  }
 },
 "nbformat": 4,
 "nbformat_minor": 1
}
