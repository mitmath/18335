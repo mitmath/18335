{
 "cells": [
  {
   "cell_type": "markdown",
   "metadata": {},
   "source": [
    "# 18.335 Problem Set 1\n",
    "\n",
    "This notebook accompanies the first problem set posted on the [18.335 web page](https://github.com/mitmath/18335), and is here to get you started with your own Julia computations.\n",
    "\n",
    "Download this notebook (a `pset1.ipynb` file) by **right-clicking the download link** at the upper-right to *Save As* a file, and then drag this file into your Jupyter dashboard to upload it (e.g. on [![Binder](https://mybinder.org/badge_logo.svg)](https://mybinder.org/v2/gh/mitmath/binder-env/main?urlpath=git-pull%3Frepo%3Dhttps%253A%252F%252Fgithub.com%252Fmitmath%252F18335%26urlpath%3Dtree%252F18335%252F%26branch%3Dmaster) or in a local installation).\n",
    "\n",
    "Modify it as needed, then choose **Print Preview** from the \"File\" menu and *print to a PDF* file to submit electronically."
   ]
  },
  {
   "cell_type": "markdown",
   "metadata": {},
   "source": [
    "# Problem 2: Floating point"
   ]
  },
  {
   "cell_type": "markdown",
   "metadata": {},
   "source": [
    "Give your solution to Trefethen problem 13.2(c) below.  Note that you can use the *Insert* menu (or ctrl-m b) to insert new code cells as needed."
   ]
  },
  {
   "cell_type": "code",
   "execution_count": null,
   "metadata": {},
   "outputs": [],
   "source": []
  },
  {
   "cell_type": "markdown",
   "metadata": {},
   "source": [
    "# Problem 3: Funny functions"
   ]
  },
  {
   "cell_type": "markdown",
   "metadata": {},
   "source": [
    "## part (a)\n",
    "\n",
    "Compute $(|x|^4 + |y|^4)^{1/4}$:"
   ]
  },
  {
   "cell_type": "code",
   "execution_count": null,
   "metadata": {},
   "outputs": [],
   "source": [
    "L4(x,y) = ..."
   ]
  },
  {
   "cell_type": "markdown",
   "metadata": {},
   "source": [
    "Some tests:"
   ]
  },
  {
   "cell_type": "code",
   "execution_count": null,
   "metadata": {},
   "outputs": [],
   "source": [
    "L4(1e-100,0.0)"
   ]
  },
  {
   "cell_type": "code",
   "execution_count": null,
   "metadata": {},
   "outputs": [],
   "source": [
    "L4(1e+100,0.0)"
   ]
  },
  {
   "cell_type": "markdown",
   "metadata": {},
   "source": [
    "## part (b)\n",
    "\n",
    "Compute $\\cot(x) - \\cot(x + y)$:"
   ]
  },
  {
   "cell_type": "code",
   "execution_count": null,
   "metadata": {},
   "outputs": [],
   "source": [
    "cotdiff(x,y) = ..."
   ]
  },
  {
   "cell_type": "markdown",
   "metadata": {},
   "source": [
    "Some tests:"
   ]
  },
  {
   "cell_type": "code",
   "execution_count": null,
   "metadata": {},
   "outputs": [],
   "source": [
    "cotdiff(1.0, 1e-20)"
   ]
  },
  {
   "cell_type": "code",
   "execution_count": null,
   "metadata": {},
   "outputs": [],
   "source": [
    "cotdiff(big(1.0), big(1e-20)) # compute in BigFloat precision"
   ]
  },
  {
   "cell_type": "markdown",
   "metadata": {},
   "source": [
    "# Problem 4: Addition, another way"
   ]
  },
  {
   "cell_type": "code",
   "execution_count": 7,
   "metadata": {},
   "outputs": [],
   "source": [
    "# Sum x[first:last].  This function works, but is a little slower than we would like.\n",
    "function div2sum(x, first=1, last=length(x))\n",
    "    n = last - first + 1;\n",
    "    if n < 2\n",
    "        s = zero(eltype(x))\n",
    "        for i = first:last\n",
    "            s += x[i]\n",
    "        end\n",
    "        return s\n",
    "    else\n",
    "        mid = div(first + last, 2) # find middle as (first+last)/2, rounding down\n",
    "        return div2sum(x, first, mid) + div2sum(x, mid+1, last)\n",
    "    end\n",
    "end\n",
    "\n",
    "# check its accuracy for a set logarithmically spaced n's.  Since div2sum is slow,\n",
    "# we won't go to very large n or use too many points\n",
    "N = round.(Int, 10 .^ range(1,7,length=50)) # 50 points from 10¹ to 10⁷\n",
    "err = Float64[]\n",
    "for n in N\n",
    "    x = rand(Float32, n)\n",
    "    xdouble = Float64.(x)\n",
    "    push!(err, abs(div2sum(x) - sum(xdouble)) / abs(sum(xdouble)))\n",
    "end\n",
    "\n",
    "using PyPlot\n",
    "loglog(N, err, \"bo-\")\n",
    "title(\"simple div2sum\")\n",
    "xlabel(\"number of summands\")\n",
    "ylabel(\"relative error\")\n",
    "grid()"
   ]
  },
  {
   "cell_type": "markdown",
   "metadata": {},
   "source": [
    "Time it vs. the built-in `sum` (which is also written in Julia):"
   ]
  },
  {
   "cell_type": "code",
   "execution_count": 6,
   "metadata": {},
   "outputs": [
    {
     "name": "stdout",
     "output_type": "stream",
     "text": [
      "  0.047769 seconds (1 allocation: 16 bytes)\n"
     ]
    },
    {
     "name": "stdout",
     "output_type": "stream",
     "text": [
      "  0.046905 seconds (1 allocation: 16 bytes)\n",
      "  0.044345 seconds (1 allocation: 16 bytes)\n",
      "  0.002188 seconds (1 allocation: 16 bytes)\n",
      "  0.002432 seconds (1 allocation: 16 bytes)\n",
      "  0.002175 seconds (1 allocation: 16 bytes)\n"
     ]
    },
    {
     "data": {
      "text/plain": [
       "4.997705f6"
      ]
     },
     "metadata": {},
     "output_type": "display_data"
    }
   ],
   "source": [
    "x = rand(Float32, 10^7)\n",
    "@time div2sum(x)\n",
    "@time div2sum(x)\n",
    "@time div2sum(x)\n",
    "@time sum(x)\n",
    "@time sum(x)\n",
    "@time sum(x)"
   ]
  },
  {
   "cell_type": "markdown",
   "metadata": {},
   "source": [
    "You should notice that it's pretty darn slow compared to `sum`, although in an absolute sense it is pretty good.  Make it faster:"
   ]
  },
  {
   "cell_type": "code",
   "execution_count": null,
   "metadata": {},
   "outputs": [],
   "source": [
    "function fast_div2sum(x, first=1, last=length(x))\n",
    "    # ???\n",
    "end"
   ]
  }
 ],
 "metadata": {
  "@webio": {
   "lastCommId": null,
   "lastKernelId": null
  },
  "kernelspec": {
   "display_name": "Julia 1.6.3",
   "language": "julia",
   "name": "julia-1.6"
  },
  "language_info": {
   "file_extension": ".jl",
   "mimetype": "application/julia",
   "name": "julia",
   "version": "1.6.3"
  }
 },
 "nbformat": 4,
 "nbformat_minor": 1
}
